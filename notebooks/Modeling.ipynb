{
 "cells": [
  {
   "cell_type": "code",
   "execution_count": 1,
   "id": "4b7ce640",
   "metadata": {},
   "outputs": [],
   "source": [
    "import pandas as pd\n",
    "import os,sys\n",
    "#sys.path.append(os.path.abspath(os.path.join('..')))\n",
    "#print(os.getcwd())\n",
    "from xgboost import XGBClassifier\n",
    "#from scripts.modeling import Modeler\n",
    "\n",
    "from sklearn.tree import DecisionTreeClassifier\n",
    "from sklearn.ensemble import RandomForestClassifier\n",
    "from sklearn.neighbors import KNeighborsClassifier\n",
    "from sklearn.linear_model import LogisticRegression\n",
    "from sklearn.naive_bayes import BernoulliNB, GaussianNB\n",
    "\n",
    "from sklearn.metrics import log_loss"
   ]
  },
  {
   "cell_type": "code",
   "execution_count": 2,
   "id": "90406f78",
   "metadata": {},
   "outputs": [],
   "source": [
    "sys.path.append(os.path.abspath(os.path.join('../scripts')))\n",
    "from modeling import Modeler\n"
   ]
  },
  {
   "cell_type": "code",
   "execution_count": 3,
   "id": "aee12aa1",
   "metadata": {},
   "outputs": [],
   "source": [
    "df = pd.read_csv(\"../data/AdSmartABdata.csv\")\n",
    "analyzer = Modeler(df)\n",
    "numeric_pipeline = analyzer.generate_pipeline(\"numeric\")\n",
    "numeric_transformation =  analyzer.generate_transformation(numeric_pipeline,\"numeric\",\"number\")\n",
    "numerical_features = analyzer.store_features(\"numeric\",\"number\")\n",
    "categorical_features = analyzer.store_features(\"categorical\",\"number\")"
   ]
  },
  {
   "cell_type": "code",
   "execution_count": 4,
   "id": "a4b6b6b6",
   "metadata": {},
   "outputs": [
    {
     "data": {
      "text/html": [
       "<div>\n",
       "<style scoped>\n",
       "    .dataframe tbody tr th:only-of-type {\n",
       "        vertical-align: middle;\n",
       "    }\n",
       "\n",
       "    .dataframe tbody tr th {\n",
       "        vertical-align: top;\n",
       "    }\n",
       "\n",
       "    .dataframe thead th {\n",
       "        text-align: right;\n",
       "    }\n",
       "</style>\n",
       "<table border=\"1\" class=\"dataframe\">\n",
       "  <thead>\n",
       "    <tr style=\"text-align: right;\">\n",
       "      <th></th>\n",
       "      <th>hour</th>\n",
       "      <th>platform_os</th>\n",
       "      <th>yes</th>\n",
       "      <th>no</th>\n",
       "      <th>date_2020-07-03</th>\n",
       "      <th>date_2020-07-04</th>\n",
       "      <th>date_2020-07-05</th>\n",
       "      <th>date_2020-07-06</th>\n",
       "      <th>date_2020-07-07</th>\n",
       "      <th>date_2020-07-08</th>\n",
       "      <th>date_2020-07-09</th>\n",
       "      <th>date_2020-07-10</th>\n",
       "      <th>auction_id</th>\n",
       "      <th>experiment</th>\n",
       "      <th>device_make</th>\n",
       "      <th>browser</th>\n",
       "    </tr>\n",
       "  </thead>\n",
       "  <tbody>\n",
       "    <tr>\n",
       "      <th>0</th>\n",
       "      <td>8</td>\n",
       "      <td>6</td>\n",
       "      <td>0</td>\n",
       "      <td>0</td>\n",
       "      <td>0</td>\n",
       "      <td>0</td>\n",
       "      <td>0</td>\n",
       "      <td>0</td>\n",
       "      <td>0</td>\n",
       "      <td>0</td>\n",
       "      <td>0</td>\n",
       "      <td>1</td>\n",
       "      <td>0</td>\n",
       "      <td>1</td>\n",
       "      <td>46</td>\n",
       "      <td>2</td>\n",
       "    </tr>\n",
       "    <tr>\n",
       "      <th>1</th>\n",
       "      <td>10</td>\n",
       "      <td>6</td>\n",
       "      <td>0</td>\n",
       "      <td>0</td>\n",
       "      <td>0</td>\n",
       "      <td>0</td>\n",
       "      <td>0</td>\n",
       "      <td>0</td>\n",
       "      <td>1</td>\n",
       "      <td>0</td>\n",
       "      <td>0</td>\n",
       "      <td>0</td>\n",
       "      <td>1</td>\n",
       "      <td>1</td>\n",
       "      <td>46</td>\n",
       "      <td>2</td>\n",
       "    </tr>\n",
       "    <tr>\n",
       "      <th>2</th>\n",
       "      <td>2</td>\n",
       "      <td>6</td>\n",
       "      <td>0</td>\n",
       "      <td>1</td>\n",
       "      <td>0</td>\n",
       "      <td>0</td>\n",
       "      <td>1</td>\n",
       "      <td>0</td>\n",
       "      <td>0</td>\n",
       "      <td>0</td>\n",
       "      <td>0</td>\n",
       "      <td>0</td>\n",
       "      <td>2</td>\n",
       "      <td>1</td>\n",
       "      <td>29</td>\n",
       "      <td>3</td>\n",
       "    </tr>\n",
       "    <tr>\n",
       "      <th>3</th>\n",
       "      <td>15</td>\n",
       "      <td>6</td>\n",
       "      <td>0</td>\n",
       "      <td>0</td>\n",
       "      <td>1</td>\n",
       "      <td>0</td>\n",
       "      <td>0</td>\n",
       "      <td>0</td>\n",
       "      <td>0</td>\n",
       "      <td>0</td>\n",
       "      <td>0</td>\n",
       "      <td>0</td>\n",
       "      <td>3</td>\n",
       "      <td>0</td>\n",
       "      <td>137</td>\n",
       "      <td>6</td>\n",
       "    </tr>\n",
       "    <tr>\n",
       "      <th>4</th>\n",
       "      <td>15</td>\n",
       "      <td>6</td>\n",
       "      <td>0</td>\n",
       "      <td>0</td>\n",
       "      <td>1</td>\n",
       "      <td>0</td>\n",
       "      <td>0</td>\n",
       "      <td>0</td>\n",
       "      <td>0</td>\n",
       "      <td>0</td>\n",
       "      <td>0</td>\n",
       "      <td>0</td>\n",
       "      <td>4</td>\n",
       "      <td>0</td>\n",
       "      <td>46</td>\n",
       "      <td>2</td>\n",
       "    </tr>\n",
       "    <tr>\n",
       "      <th>...</th>\n",
       "      <td>...</td>\n",
       "      <td>...</td>\n",
       "      <td>...</td>\n",
       "      <td>...</td>\n",
       "      <td>...</td>\n",
       "      <td>...</td>\n",
       "      <td>...</td>\n",
       "      <td>...</td>\n",
       "      <td>...</td>\n",
       "      <td>...</td>\n",
       "      <td>...</td>\n",
       "      <td>...</td>\n",
       "      <td>...</td>\n",
       "      <td>...</td>\n",
       "      <td>...</td>\n",
       "      <td>...</td>\n",
       "    </tr>\n",
       "    <tr>\n",
       "      <th>8072</th>\n",
       "      <td>7</td>\n",
       "      <td>6</td>\n",
       "      <td>0</td>\n",
       "      <td>0</td>\n",
       "      <td>0</td>\n",
       "      <td>0</td>\n",
       "      <td>1</td>\n",
       "      <td>0</td>\n",
       "      <td>0</td>\n",
       "      <td>0</td>\n",
       "      <td>0</td>\n",
       "      <td>0</td>\n",
       "      <td>8072</td>\n",
       "      <td>1</td>\n",
       "      <td>46</td>\n",
       "      <td>2</td>\n",
       "    </tr>\n",
       "    <tr>\n",
       "      <th>8073</th>\n",
       "      <td>15</td>\n",
       "      <td>6</td>\n",
       "      <td>0</td>\n",
       "      <td>0</td>\n",
       "      <td>1</td>\n",
       "      <td>0</td>\n",
       "      <td>0</td>\n",
       "      <td>0</td>\n",
       "      <td>0</td>\n",
       "      <td>0</td>\n",
       "      <td>0</td>\n",
       "      <td>0</td>\n",
       "      <td>8073</td>\n",
       "      <td>0</td>\n",
       "      <td>46</td>\n",
       "      <td>2</td>\n",
       "    </tr>\n",
       "    <tr>\n",
       "      <th>8074</th>\n",
       "      <td>9</td>\n",
       "      <td>6</td>\n",
       "      <td>0</td>\n",
       "      <td>0</td>\n",
       "      <td>0</td>\n",
       "      <td>1</td>\n",
       "      <td>0</td>\n",
       "      <td>0</td>\n",
       "      <td>0</td>\n",
       "      <td>0</td>\n",
       "      <td>0</td>\n",
       "      <td>0</td>\n",
       "      <td>8074</td>\n",
       "      <td>0</td>\n",
       "      <td>46</td>\n",
       "      <td>2</td>\n",
       "    </tr>\n",
       "    <tr>\n",
       "      <th>8075</th>\n",
       "      <td>15</td>\n",
       "      <td>6</td>\n",
       "      <td>0</td>\n",
       "      <td>0</td>\n",
       "      <td>0</td>\n",
       "      <td>0</td>\n",
       "      <td>1</td>\n",
       "      <td>0</td>\n",
       "      <td>0</td>\n",
       "      <td>0</td>\n",
       "      <td>0</td>\n",
       "      <td>0</td>\n",
       "      <td>8075</td>\n",
       "      <td>1</td>\n",
       "      <td>130</td>\n",
       "      <td>14</td>\n",
       "    </tr>\n",
       "    <tr>\n",
       "      <th>8076</th>\n",
       "      <td>14</td>\n",
       "      <td>6</td>\n",
       "      <td>0</td>\n",
       "      <td>0</td>\n",
       "      <td>0</td>\n",
       "      <td>0</td>\n",
       "      <td>0</td>\n",
       "      <td>0</td>\n",
       "      <td>0</td>\n",
       "      <td>0</td>\n",
       "      <td>0</td>\n",
       "      <td>1</td>\n",
       "      <td>8076</td>\n",
       "      <td>0</td>\n",
       "      <td>177</td>\n",
       "      <td>6</td>\n",
       "    </tr>\n",
       "  </tbody>\n",
       "</table>\n",
       "<p>8077 rows × 16 columns</p>\n",
       "</div>"
      ],
      "text/plain": [
       "      hour  platform_os  yes  no  date_2020-07-03  date_2020-07-04  \\\n",
       "0        8            6    0   0                0                0   \n",
       "1       10            6    0   0                0                0   \n",
       "2        2            6    0   1                0                0   \n",
       "3       15            6    0   0                1                0   \n",
       "4       15            6    0   0                1                0   \n",
       "...    ...          ...  ...  ..              ...              ...   \n",
       "8072     7            6    0   0                0                0   \n",
       "8073    15            6    0   0                1                0   \n",
       "8074     9            6    0   0                0                1   \n",
       "8075    15            6    0   0                0                0   \n",
       "8076    14            6    0   0                0                0   \n",
       "\n",
       "      date_2020-07-05  date_2020-07-06  date_2020-07-07  date_2020-07-08  \\\n",
       "0                   0                0                0                0   \n",
       "1                   0                0                1                0   \n",
       "2                   1                0                0                0   \n",
       "3                   0                0                0                0   \n",
       "4                   0                0                0                0   \n",
       "...               ...              ...              ...              ...   \n",
       "8072                1                0                0                0   \n",
       "8073                0                0                0                0   \n",
       "8074                0                0                0                0   \n",
       "8075                1                0                0                0   \n",
       "8076                0                0                0                0   \n",
       "\n",
       "      date_2020-07-09  date_2020-07-10  auction_id  experiment  device_make  \\\n",
       "0                   0                1           0           1           46   \n",
       "1                   0                0           1           1           46   \n",
       "2                   0                0           2           1           29   \n",
       "3                   0                0           3           0          137   \n",
       "4                   0                0           4           0           46   \n",
       "...               ...              ...         ...         ...          ...   \n",
       "8072                0                0        8072           1           46   \n",
       "8073                0                0        8073           0           46   \n",
       "8074                0                0        8074           0           46   \n",
       "8075                0                0        8075           1          130   \n",
       "8076                0                1        8076           0          177   \n",
       "\n",
       "      browser  \n",
       "0           2  \n",
       "1           2  \n",
       "2           3  \n",
       "3           6  \n",
       "4           2  \n",
       "...       ...  \n",
       "8072        2  \n",
       "8073        2  \n",
       "8074        2  \n",
       "8075       14  \n",
       "8076        6  \n",
       "\n",
       "[8077 rows x 16 columns]"
      ]
     },
     "execution_count": 4,
     "metadata": {},
     "output_type": "execute_result"
    }
   ],
   "source": [
    "analyzer.merge_data()"
   ]
  },
  {
   "cell_type": "code",
   "execution_count": 5,
   "id": "3fbf93bf",
   "metadata": {},
   "outputs": [
    {
     "data": {
      "text/plain": [
       "(array([[740,  12],\n",
       "        [ 56,   0]], dtype=int64),\n",
       " 0.9158415841584159)"
      ]
     },
     "execution_count": 5,
     "metadata": {},
     "output_type": "execute_result"
    }
   ],
   "source": [
    "analyzer.model(RandomForestClassifier,n_estimators=100)"
   ]
  },
  {
   "cell_type": "code",
   "execution_count": 5,
   "id": "cdd254e4",
   "metadata": {},
   "outputs": [
    {
     "data": {
      "text/plain": [
       "(0.9134587560923275, 0.906559405940594, 0.9195046439628483)"
      ]
     },
     "execution_count": 5,
     "metadata": {},
     "output_type": "execute_result"
    }
   ],
   "source": [
    "analyzer.evaluate(5,RandomForestClassifier,n_estimators=100)"
   ]
  },
  {
   "cell_type": "code",
   "execution_count": 7,
   "id": "8415e719",
   "metadata": {},
   "outputs": [
    {
     "data": {
      "text/plain": [
       "(0.7543607270943812, 0.7331269349845201, 0.7716584158415841)"
      ]
     },
     "execution_count": 7,
     "metadata": {},
     "output_type": "execute_result"
    }
   ],
   "source": [
    "analyzer.evaluate(5,RandomForestClassifier,column=\"browser\",n_estimators=100)"
   ]
  },
  {
   "cell_type": "code",
   "execution_count": 8,
   "id": "ff1917af",
   "metadata": {},
   "outputs": [
    {
     "data": {
      "text/plain": [
       "(0.9991333568341354, 0.9987616099071207, 1.0)"
      ]
     },
     "execution_count": 8,
     "metadata": {},
     "output_type": "execute_result"
    }
   ],
   "source": [
    "analyzer.evaluate(5,RandomForestClassifier,column=\"platform_os\",n_estimators=100)"
   ]
  },
  {
   "cell_type": "code",
   "execution_count": 5,
   "id": "807be904",
   "metadata": {},
   "outputs": [
    {
     "data": {
      "text/plain": [
       "(array([[  0,   0,   1,   0,   0,   0,   0,   0,   0,   0,   0],\n",
       "        [  0, 408,  29,   0,   7,   0,   0,   0,   0,   1,   1],\n",
       "        [  0,  31,  84,   0,  14,   0,   0,   0,   0,   0,  30],\n",
       "        [  0,   0,   0,   0,   0,   6,   0,   0,   0,   0,   0],\n",
       "        [  0,   8,  19,   0,  32,   0,   0,   0,   0,   0,  27],\n",
       "        [  0,   0,   0,   2,   0,  27,   5,   0,   0,   0,   0],\n",
       "        [  0,   0,   0,   0,   0,   5,   0,   0,   0,   0,   0],\n",
       "        [  0,   0,   0,   0,   0,   1,   0,   0,   0,   0,   0],\n",
       "        [  0,   0,   0,   0,   0,   0,   0,   0,   0,   0,   0],\n",
       "        [  0,   0,   0,   0,   0,   0,   0,   0,   0,   0,   0],\n",
       "        [  0,   0,  26,   0,  17,   0,   0,   0,   1,   0,  26]],\n",
       "       dtype=int64),\n",
       " 0.7141089108910891)"
      ]
     },
     "execution_count": 5,
     "metadata": {},
     "output_type": "execute_result"
    }
   ],
   "source": [
    "analyzer.model( DecisionTreeClassifier)"
   ]
  },
  {
   "cell_type": "code",
   "execution_count": 13,
   "id": "0a6802f2",
   "metadata": {},
   "outputs": [
    {
     "data": {
      "text/plain": [
       "(0.858115746559176, 0.8544891640866873, 0.8613003095975232)"
      ]
     },
     "execution_count": 13,
     "metadata": {},
     "output_type": "execute_result"
    }
   ],
   "source": [
    "analyzer.evaluate(5,DecisionTreeClassifier)"
   ]
  },
  {
   "cell_type": "code",
   "execution_count": 7,
   "id": "26179de0",
   "metadata": {},
   "outputs": [
    {
     "name": "stderr",
     "output_type": "stream",
     "text": [
      "c:\\users\\user\\appdata\\local\\programs\\python\\python37\\lib\\site-packages\\sklearn\\linear_model\\_logistic.py:818: ConvergenceWarning: lbfgs failed to converge (status=1):\n",
      "STOP: TOTAL NO. of ITERATIONS REACHED LIMIT.\n",
      "\n",
      "Increase the number of iterations (max_iter) or scale the data as shown in:\n",
      "    https://scikit-learn.org/stable/modules/preprocessing.html\n",
      "Please also refer to the documentation for alternative solver options:\n",
      "    https://scikit-learn.org/stable/modules/linear_model.html#logistic-regression\n",
      "  extra_warning_msg=_LOGISTIC_SOLVER_CONVERGENCE_MSG,\n"
     ]
    },
    {
     "data": {
      "text/plain": [
       "(array([[  0,   1,   0,   0,   0,   0,   0,   0,   0],\n",
       "        [  0, 408,  32,   0,   0,   6,   0,   0,   0],\n",
       "        [  0,  71,  64,   0,   0,  24,   0,   0,   0],\n",
       "        [  0,   0,   3,   0,   0,   3,   0,   0,   0],\n",
       "        [  0,  23,  51,   0,   0,  12,   0,   0,   0],\n",
       "        [  0,   0,  23,   0,   0,  11,   0,   0,   0],\n",
       "        [  0,   0,   3,   0,   0,   2,   0,   0,   0],\n",
       "        [  0,   0,   0,   0,   0,   1,   0,   0,   0],\n",
       "        [  0,  12,  40,   0,   0,  18,   0,   0,   0]], dtype=int64),\n",
       " 0.5977722772277227)"
      ]
     },
     "execution_count": 7,
     "metadata": {},
     "output_type": "execute_result"
    }
   ],
   "source": [
    "analyzer.model(LogisticRegression)"
   ]
  },
  {
   "cell_type": "code",
   "execution_count": 9,
   "id": "d6caedd2",
   "metadata": {},
   "outputs": [
    {
     "data": {
      "text/plain": [
       "(0.9291828617846305, 0.9201732673267327, 0.9374613003095975)"
      ]
     },
     "execution_count": 9,
     "metadata": {},
     "output_type": "execute_result"
    }
   ],
   "source": [
    "analyzer.evaluate(5,LogisticRegression)"
   ]
  },
  {
   "cell_type": "code",
   "execution_count": 11,
   "id": "b6993f31",
   "metadata": {},
   "outputs": [
    {
     "data": {
      "text/plain": [
       "(0.5991007877877571, 0.5585139318885449, 0.6318069306930693)"
      ]
     },
     "execution_count": 11,
     "metadata": {},
     "output_type": "execute_result"
    }
   ],
   "source": [
    "analyzer.evaluate(5,LogisticRegression,column=\"browser\")"
   ]
  },
  {
   "cell_type": "code",
   "execution_count": 12,
   "id": "1e9d3d73",
   "metadata": {},
   "outputs": [
    {
     "data": {
      "text/plain": [
       "(0.9683038806976674, 0.9603715170278638, 0.9733910891089109)"
      ]
     },
     "execution_count": 12,
     "metadata": {},
     "output_type": "execute_result"
    }
   ],
   "source": [
    "analyzer.evaluate(5,LogisticRegression,column=\"platform_os\")"
   ]
  },
  {
   "cell_type": "code",
   "execution_count": null,
   "id": "47302c6b",
   "metadata": {},
   "outputs": [],
   "source": []
  },
  {
   "cell_type": "code",
   "execution_count": 9,
   "id": "4795ff1e",
   "metadata": {},
   "outputs": [
    {
     "data": {
      "text/plain": [
       "(array([[  0,   1,   0,   0,   0,   0,   0,   0,   0],\n",
       "        [  0, 446,   0,   0,   0,   0,   0,   0,   0],\n",
       "        [  0, 159,   0,   0,   0,   0,   0,   0,   0],\n",
       "        [  0,   6,   0,   0,   0,   0,   0,   0,   0],\n",
       "        [  0,  86,   0,   0,   0,   0,   0,   0,   0],\n",
       "        [  0,  34,   0,   0,   0,   0,   0,   0,   0],\n",
       "        [  0,   5,   0,   0,   0,   0,   0,   0,   0],\n",
       "        [  0,   1,   0,   0,   0,   0,   0,   0,   0],\n",
       "        [  0,  70,   0,   0,   0,   0,   0,   0,   0]], dtype=int64),\n",
       " 0.551980198019802)"
      ]
     },
     "execution_count": 9,
     "metadata": {},
     "output_type": "execute_result"
    }
   ],
   "source": [
    "analyzer.model(BernoulliNB)"
   ]
  },
  {
   "cell_type": "code",
   "execution_count": 10,
   "id": "960b4c0b",
   "metadata": {},
   "outputs": [
    {
     "data": {
      "text/plain": [
       "(0.5638200042914507, 0.5479876160990712, 0.5878712871287128)"
      ]
     },
     "execution_count": 10,
     "metadata": {},
     "output_type": "execute_result"
    }
   ],
   "source": [
    "analyzer.evaluate(5,BernoulliNB)"
   ]
  },
  {
   "cell_type": "code",
   "execution_count": 11,
   "id": "0f5dff54",
   "metadata": {},
   "outputs": [
    {
     "data": {
      "text/plain": [
       "(array([[  0,   1,   0,   0,   0,   0,   0,   0,   0,   0,   0],\n",
       "        [  0, 345,   4,   0,   1,   0,   0,   0,  66,  29,   1],\n",
       "        [  0,  41,  62,   0,  21,   0,   0,   0,  10,   5,  20],\n",
       "        [  0,   0,   0,   1,   0,   4,   1,   0,   0,   0,   0],\n",
       "        [  0,  11,  11,   0,  29,   0,   0,   0,   2,  10,  23],\n",
       "        [  0,   0,   0,  12,   1,  17,   4,   0,   0,   0,   0],\n",
       "        [  0,   0,   0,   1,   0,   4,   0,   0,   0,   0,   0],\n",
       "        [  0,   0,   0,   1,   0,   0,   0,   0,   0,   0,   0],\n",
       "        [  0,   0,   0,   0,   0,   0,   0,   0,   0,   0,   0],\n",
       "        [  0,   0,   0,   0,   0,   0,   0,   0,   0,   0,   0],\n",
       "        [  0,   0,  26,   0,  18,   0,   0,   0,   0,   7,  19]],\n",
       "       dtype=int64),\n",
       " 0.5853960396039604)"
      ]
     },
     "execution_count": 11,
     "metadata": {},
     "output_type": "execute_result"
    }
   ],
   "source": [
    "analyzer.model(GaussianNB)"
   ]
  },
  {
   "cell_type": "code",
   "execution_count": 12,
   "id": "89638298",
   "metadata": {},
   "outputs": [
    {
     "data": {
      "text/plain": [
       "(0.6437914201636882, 0.5826625386996904, 0.7073019801980198)"
      ]
     },
     "execution_count": 12,
     "metadata": {},
     "output_type": "execute_result"
    }
   ],
   "source": [
    "analyzer.evaluate(5,GaussianNB)"
   ]
  },
  {
   "cell_type": "code",
   "execution_count": 13,
   "id": "5885106a",
   "metadata": {},
   "outputs": [
    {
     "data": {
      "text/plain": [
       "(array([[  0,   1,   0,   0,   0,   0,   0,   0,   0],\n",
       "        [  0, 429,  12,   0,   3,   1,   0,   0,   1],\n",
       "        [  0,  54,  54,   0,  15,   2,   0,   0,  34],\n",
       "        [  0,   0,   1,   0,   0,   5,   0,   0,   0],\n",
       "        [  0,  21,  31,   0,  17,   0,   0,   0,  17],\n",
       "        [  0,   1,   2,   2,   0,  29,   0,   0,   0],\n",
       "        [  0,   0,   0,   0,   0,   5,   0,   0,   0],\n",
       "        [  0,   0,   1,   0,   0,   0,   0,   0,   0],\n",
       "        [  0,   1,  43,   0,   9,   0,   0,   0,  17]], dtype=int64),\n",
       " 0.6757425742574258)"
      ]
     },
     "execution_count": 13,
     "metadata": {},
     "output_type": "execute_result"
    }
   ],
   "source": [
    "analyzer.model(KNeighborsClassifier,n_neighbors=3, metric=\"minkowski\")"
   ]
  },
  {
   "cell_type": "code",
   "execution_count": 15,
   "id": "2ef0ebf5",
   "metadata": {},
   "outputs": [
    {
     "data": {
      "text/plain": [
       "(0.6927037672807529, 0.6792569659442724, 0.7122524752475248)"
      ]
     },
     "execution_count": 15,
     "metadata": {},
     "output_type": "execute_result"
    }
   ],
   "source": [
    "analyzer.evaluate(5,KNeighborsClassifier,n_neighbors=3, metric=\"minkowski\")"
   ]
  },
  {
   "cell_type": "code",
   "execution_count": 10,
   "id": "03e20dff",
   "metadata": {},
   "outputs": [
    {
     "data": {
      "text/plain": [
       "(array([[  0,   0,   1,   0,   0,   0,   0,   0,   0],\n",
       "        [  0, 437,   5,   0,   2,   0,   0,   0,   2],\n",
       "        [  0,  34,  90,   0,  14,   0,   0,   0,  21],\n",
       "        [  0,   0,   0,   0,   0,   6,   0,   0,   0],\n",
       "        [  0,   9,  13,   0,  37,   0,   0,   0,  27],\n",
       "        [  0,   0,   0,   1,   0,  30,   3,   0,   0],\n",
       "        [  0,   0,   0,   0,   0,   5,   0,   0,   0],\n",
       "        [  0,   0,   0,   0,   0,   1,   0,   0,   0],\n",
       "        [  0,   0,  23,   0,  11,   0,   0,   0,  36]], dtype=int64),\n",
       " 0.7797029702970297)"
      ]
     },
     "execution_count": 10,
     "metadata": {},
     "output_type": "execute_result"
    }
   ],
   "source": [
    "analyzer.model(XGBClassifier,n_estimators=1000, learning_rate=0.05)"
   ]
  },
  {
   "cell_type": "code",
   "execution_count": 16,
   "id": "8d12cf0b",
   "metadata": {},
   "outputs": [
    {
     "data": {
      "text/plain": [
       "(0.7885321705545167, 0.7727554179566564, 0.8063118811881188)"
      ]
     },
     "execution_count": 16,
     "metadata": {},
     "output_type": "execute_result"
    }
   ],
   "source": [
    "analyzer.evaluate(5,XGBClassifier,n_estimators=1000, learning_rate=0.05)"
   ]
  },
  {
   "cell_type": "code",
   "execution_count": 14,
   "id": "08ab8e27",
   "metadata": {},
   "outputs": [
    {
     "data": {
      "text/plain": [
       "(0.9988856788155596, 0.9981424148606811, 1.0)"
      ]
     },
     "execution_count": 14,
     "metadata": {},
     "output_type": "execute_result"
    }
   ],
   "source": [
    "analyzer.evaluate(5,XGBClassifier,column=\"platform_os\",n_estimators=1000, learning_rate=0.05)"
   ]
  },
  {
   "cell_type": "code",
   "execution_count": 19,
   "id": "8fc679f2",
   "metadata": {},
   "outputs": [
    {
     "data": {
      "image/png": "[encoded data removed]",
      "text/plain": [
       "<Figure size 432x288 with 1 Axes>"
      ]
     },
     "metadata": {
      "needs_background": "light"
     },
     "output_type": "display_data"
    },
    {
     "data": {
      "text/plain": [
       "hour               0.207754\n",
       "platform_os        0.002687\n",
       "no                 0.007865\n",
       "date_2020-07-03    0.002786\n",
       "date_2020-07-04    0.002901\n",
       "date_2020-07-05    0.001983\n",
       "date_2020-07-06    0.002024\n",
       "date_2020-07-07    0.002152\n",
       "date_2020-07-08    0.002774\n",
       "date_2020-07-09    0.003717\n",
       "date_2020-07-10    0.002519\n",
       "auction_id         0.554612\n",
       "experiment         0.009949\n",
       "device_make        0.154298\n",
       "browser            0.041976\n",
       "dtype: float64"
      ]
     },
     "execution_count": 19,
     "metadata": {},
     "output_type": "execute_result"
    }
   ],
   "source": [
    "analyzer.feature_importance()"
   ]
  },
  {
   "cell_type": "code",
   "execution_count": 20,
   "id": "73e6a617",
   "metadata": {},
   "outputs": [
    {
     "data": {
      "image/png": "[encoded data removed]",
      "text/plain": [
       "<Figure size 432x288 with 1 Axes>"
      ]
     },
     "metadata": {
      "needs_background": "light"
     },
     "output_type": "display_data"
    },
    {
     "data": {
      "text/plain": [
       "hour               0.110161\n",
       "platform_os        0.056301\n",
       "yes                0.006059\n",
       "no                 0.006615\n",
       "date_2020-07-03    0.003418\n",
       "date_2020-07-04    0.003332\n",
       "date_2020-07-05    0.003201\n",
       "date_2020-07-06    0.002114\n",
       "date_2020-07-07    0.003014\n",
       "date_2020-07-08    0.003385\n",
       "date_2020-07-09    0.003220\n",
       "date_2020-07-10    0.002836\n",
       "auction_id         0.243963\n",
       "experiment         0.031472\n",
       "device_make        0.520910\n",
       "dtype: float64"
      ]
     },
     "execution_count": 20,
     "metadata": {},
     "output_type": "execute_result"
    }
   ],
   "source": [
    "analyzer.feature_importance(column=\"browser\")"
   ]
  },
  {
   "cell_type": "code",
   "execution_count": 21,
   "id": "7ddfa0d5",
   "metadata": {},
   "outputs": [
    {
     "data": {
      "image/png": "[encoded data removed]",
      "text/plain": [
       "<Figure size 432x288 with 1 Axes>"
      ]
     },
     "metadata": {
      "needs_background": "light"
     },
     "output_type": "display_data"
    },
    {
     "data": {
      "text/plain": [
       "hour               0.015796\n",
       "yes                0.004830\n",
       "no                 0.004377\n",
       "date_2020-07-03    0.001709\n",
       "date_2020-07-04    0.001136\n",
       "date_2020-07-05    0.001194\n",
       "date_2020-07-06    0.001461\n",
       "date_2020-07-07    0.001387\n",
       "date_2020-07-08    0.001018\n",
       "date_2020-07-09    0.001409\n",
       "date_2020-07-10    0.001123\n",
       "auction_id         0.019776\n",
       "experiment         0.011948\n",
       "device_make        0.586934\n",
       "browser            0.345903\n",
       "dtype: float64"
      ]
     },
     "execution_count": 21,
     "metadata": {},
     "output_type": "execute_result"
    }
   ],
   "source": [
    "analyzer.feature_importance(column=\"platform_os\")"
   ]
  },
  {
   "cell_type": "code",
   "execution_count": 15,
   "id": "7e0f4f3b",
   "metadata": {},
   "outputs": [
    {
     "data": {
      "text/plain": [
       "0.2483202730247205"
      ]
     },
     "execution_count": 15,
     "metadata": {},
     "output_type": "execute_result"
    }
   ],
   "source": [
    "analyzer.log_loss(model = XGBClassifier)"
   ]
  },
  {
   "cell_type": "code",
   "execution_count": 16,
   "id": "b6c47a6d",
   "metadata": {},
   "outputs": [
    {
     "data": {
      "text/plain": [
       "4.537074478286067"
      ]
     },
     "execution_count": 16,
     "metadata": {},
     "output_type": "execute_result"
    }
   ],
   "source": [
    "analyzer.log_loss(model = DecisionTreeClassifier)"
   ]
  },
  {
   "cell_type": "code",
   "execution_count": 17,
   "id": "f969b2e8",
   "metadata": {},
   "outputs": [
    {
     "data": {
      "text/plain": [
       "0.7007536680826406"
      ]
     },
     "execution_count": 17,
     "metadata": {},
     "output_type": "execute_result"
    }
   ],
   "source": [
    "analyzer.log_loss(model = RandomForestClassifier)"
   ]
  },
  {
   "cell_type": "code",
   "execution_count": 18,
   "id": "4c96ad4d",
   "metadata": {},
   "outputs": [
    {
     "name": "stderr",
     "output_type": "stream",
     "text": [
      "c:\\users\\user\\appdata\\local\\programs\\python\\python37\\lib\\site-packages\\sklearn\\linear_model\\_logistic.py:818: ConvergenceWarning: lbfgs failed to converge (status=1):\n",
      "STOP: TOTAL NO. of ITERATIONS REACHED LIMIT.\n",
      "\n",
      "Increase the number of iterations (max_iter) or scale the data as shown in:\n",
      "    https://scikit-learn.org/stable/modules/preprocessing.html\n",
      "Please also refer to the documentation for alternative solver options:\n",
      "    https://scikit-learn.org/stable/modules/linear_model.html#logistic-regression\n",
      "  extra_warning_msg=_LOGISTIC_SOLVER_CONVERGENCE_MSG,\n"
     ]
    },
    {
     "data": {
      "text/plain": [
       "0.25336770136997205"
      ]
     },
     "execution_count": 18,
     "metadata": {},
     "output_type": "execute_result"
    }
   ],
   "source": [
    "analyzer.log_loss(model = LogisticRegression)"
   ]
  },
  {
   "cell_type": "code",
   "execution_count": 6,
   "id": "df86ed9b",
   "metadata": {},
   "outputs": [
    {
     "data": {
      "image/png": "[encoded data removed]",
      "text/plain": [
       "<Figure size 432x288 with 1 Axes>"
      ]
     },
     "metadata": {
      "needs_background": "light"
     },
     "output_type": "display_data"
    }
   ],
   "source": [
    "analyzer.ml_plot()"
   ]
  },
  {
   "cell_type": "code",
   "execution_count": null,
   "id": "00f11632",
   "metadata": {},
   "outputs": [],
   "source": []
  }
 ],
 "metadata": {
  "kernelspec": {
   "display_name": "Python 3 (ipykernel)",
   "language": "python",
   "name": "python3"
  },
  "language_info": {
   "codemirror_mode": {
    "name": "ipython",
    "version": 3
   },
   "file_extension": ".py",
   "mimetype": "text/x-python",
   "name": "python",
   "nbconvert_exporter": "python",
   "pygments_lexer": "ipython3",
   "version": "3.7.9"
  }
 },
 "nbformat": 4,
 "nbformat_minor": 5
}
